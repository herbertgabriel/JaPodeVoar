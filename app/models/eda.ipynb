{
 "cells": [
  {
   "cell_type": "markdown",
   "metadata": {
    "id": "Ikqlvd2HBoK-"
   },
   "source": [
    "## Pré Processamento de Dados"
   ]
  },
  {
   "cell_type": "code",
   "execution_count": 3,
   "metadata": {},
   "outputs": [],
   "source": [
    "import pandas as pd\n",
    "import numpy as np\n",
    "import os"
   ]
  },
  {
   "cell_type": "code",
   "execution_count": 4,
   "metadata": {
    "colab": {
     "base_uri": "https://localhost:8080/",
     "height": 238
    },
    "executionInfo": {
     "elapsed": 448,
     "status": "ok",
     "timestamp": 1728482012724,
     "user": {
      "displayName": "Herbert Gabriel Almeida Cruz",
      "userId": "18354378107958142042"
     },
     "user_tz": 180
    },
    "id": "_Ntl0aWYCuKI",
    "outputId": "62cac338-84ce-4c9b-a412-b1a91b252827"
   },
   "outputs": [
    {
     "name": "stdout",
     "output_type": "stream",
     "text": [
      "Diretório de trabalho atual: c:\\Users\\herbe\\Desktop\\JaPodeVoar-main\\app\\models\n",
      "   Airline  Flight AirportFrom AirportTo  DayOfWeek  Time  Length  Delay\n",
      "id                                                                      \n",
      "1       CO     269         SFO       IAH          3    15     205      1\n",
      "2       US    1558         PHX       CLT          3    15     222      1\n",
      "3       AA    2400         LAX       DFW          3    20     165      1\n",
      "4       AA    2466         SFO       DFW          3    20     195      1\n",
      "5       AS     108         ANC       SEA          3    30     202      0\n"
     ]
    }
   ],
   "source": [
    "current_dir = os.getcwd()\n",
    "print(f\"Diretório de trabalho atual: {current_dir}\")\n",
    "\n",
    "caminho_relativo = r'..\\..\\data\\Airlines.csv'\n",
    "\n",
    "if os.path.exists(caminho_relativo):\n",
    "    dados = pd.read_csv(caminho_relativo, index_col='id')\n",
    "    print(dados.head())\n",
    "else:\n",
    "    print(f\"Arquivo não encontrado: {caminho_relativo}\")"
   ]
  },
  {
   "cell_type": "code",
   "execution_count": 5,
   "metadata": {
    "colab": {
     "base_uri": "https://localhost:8080/"
    },
    "executionInfo": {
     "elapsed": 322,
     "status": "ok",
     "timestamp": 1727286259864,
     "user": {
      "displayName": "Herbert Gabriel Almeida Cruz",
      "userId": "18354378107958142042"
     },
     "user_tz": 180
    },
    "id": "mCflP84fCt9x",
    "outputId": "b9905736-ff14-4222-e793-f7dc3ff25ada"
   },
   "outputs": [
    {
     "data": {
      "text/plain": [
       "(539383, 8)"
      ]
     },
     "execution_count": 5,
     "metadata": {},
     "output_type": "execute_result"
    }
   ],
   "source": [
    "# Número de linhas e colunas\n",
    "dados.shape"
   ]
  },
  {
   "cell_type": "code",
   "execution_count": 6,
   "metadata": {
    "colab": {
     "base_uri": "https://localhost:8080/"
    },
    "executionInfo": {
     "elapsed": 321,
     "status": "ok",
     "timestamp": 1727286261934,
     "user": {
      "displayName": "Herbert Gabriel Almeida Cruz",
      "userId": "18354378107958142042"
     },
     "user_tz": 180
    },
    "id": "JMmm5vJtE6dF",
    "outputId": "dd4489ab-feda-44c6-ff4d-7835d14bea62"
   },
   "outputs": [
    {
     "name": "stdout",
     "output_type": "stream",
     "text": [
      "<class 'pandas.core.frame.DataFrame'>\n",
      "Index: 539383 entries, 1 to 539383\n",
      "Data columns (total 8 columns):\n",
      " #   Column       Non-Null Count   Dtype \n",
      "---  ------       --------------   ----- \n",
      " 0   Airline      539383 non-null  object\n",
      " 1   Flight       539383 non-null  int64 \n",
      " 2   AirportFrom  539383 non-null  object\n",
      " 3   AirportTo    539383 non-null  object\n",
      " 4   DayOfWeek    539383 non-null  int64 \n",
      " 5   Time         539383 non-null  int64 \n",
      " 6   Length       539383 non-null  int64 \n",
      " 7   Delay        539383 non-null  int64 \n",
      "dtypes: int64(5), object(3)\n",
      "memory usage: 37.0+ MB\n"
     ]
    }
   ],
   "source": [
    "# Verifica a estrutura do dataframe, incluindo a contagem de valores não nulos e os tipos de dados\n",
    "dados.info()"
   ]
  },
  {
   "cell_type": "code",
   "execution_count": 7,
   "metadata": {
    "colab": {
     "base_uri": "https://localhost:8080/",
     "height": 300
    },
    "executionInfo": {
     "elapsed": 382,
     "status": "ok",
     "timestamp": 1728481891518,
     "user": {
      "displayName": "Herbert Gabriel Almeida Cruz",
      "userId": "18354378107958142042"
     },
     "user_tz": 180
    },
    "id": "cGXz8MGZCtpK",
    "outputId": "e3b3f8e9-2302-4795-83db-71d962317521"
   },
   "outputs": [
    {
     "data": {
      "text/html": [
       "<div>\n",
       "<style scoped>\n",
       "    .dataframe tbody tr th:only-of-type {\n",
       "        vertical-align: middle;\n",
       "    }\n",
       "\n",
       "    .dataframe tbody tr th {\n",
       "        vertical-align: top;\n",
       "    }\n",
       "\n",
       "    .dataframe thead th {\n",
       "        text-align: right;\n",
       "    }\n",
       "</style>\n",
       "<table border=\"1\" class=\"dataframe\">\n",
       "  <thead>\n",
       "    <tr style=\"text-align: right;\">\n",
       "      <th></th>\n",
       "      <th>Time</th>\n",
       "      <th>Length</th>\n",
       "    </tr>\n",
       "  </thead>\n",
       "  <tbody>\n",
       "    <tr>\n",
       "      <th>count</th>\n",
       "      <td>539383.000000</td>\n",
       "      <td>539383.000000</td>\n",
       "    </tr>\n",
       "    <tr>\n",
       "      <th>mean</th>\n",
       "      <td>802.728963</td>\n",
       "      <td>132.202007</td>\n",
       "    </tr>\n",
       "    <tr>\n",
       "      <th>std</th>\n",
       "      <td>278.045911</td>\n",
       "      <td>70.117016</td>\n",
       "    </tr>\n",
       "    <tr>\n",
       "      <th>min</th>\n",
       "      <td>10.000000</td>\n",
       "      <td>0.000000</td>\n",
       "    </tr>\n",
       "    <tr>\n",
       "      <th>25%</th>\n",
       "      <td>565.000000</td>\n",
       "      <td>81.000000</td>\n",
       "    </tr>\n",
       "    <tr>\n",
       "      <th>50%</th>\n",
       "      <td>795.000000</td>\n",
       "      <td>115.000000</td>\n",
       "    </tr>\n",
       "    <tr>\n",
       "      <th>75%</th>\n",
       "      <td>1035.000000</td>\n",
       "      <td>162.000000</td>\n",
       "    </tr>\n",
       "    <tr>\n",
       "      <th>max</th>\n",
       "      <td>1439.000000</td>\n",
       "      <td>655.000000</td>\n",
       "    </tr>\n",
       "  </tbody>\n",
       "</table>\n",
       "</div>"
      ],
      "text/plain": [
       "                Time         Length\n",
       "count  539383.000000  539383.000000\n",
       "mean      802.728963     132.202007\n",
       "std       278.045911      70.117016\n",
       "min        10.000000       0.000000\n",
       "25%       565.000000      81.000000\n",
       "50%       795.000000     115.000000\n",
       "75%      1035.000000     162.000000\n",
       "max      1439.000000     655.000000"
      ]
     },
     "execution_count": 7,
     "metadata": {},
     "output_type": "execute_result"
    }
   ],
   "source": [
    "# Resumos estatisticos\n",
    "dados[['Time', 'Length']].describe()"
   ]
  },
  {
   "cell_type": "code",
   "execution_count": 8,
   "metadata": {},
   "outputs": [],
   "source": [
    "data = dados;"
   ]
  },
  {
   "cell_type": "code",
   "execution_count": 9,
   "metadata": {
    "colab": {
     "base_uri": "https://localhost:8080/"
    },
    "executionInfo": {
     "elapsed": 8,
     "status": "ok",
     "timestamp": 1728481892973,
     "user": {
      "displayName": "Herbert Gabriel Almeida Cruz",
      "userId": "18354378107958142042"
     },
     "user_tz": 180
    },
    "id": "yGb4ev5dwJuy",
    "outputId": "b2402987-e4f6-4f1e-c600-7730c8ee5375"
   },
   "outputs": [
    {
     "name": "stdout",
     "output_type": "stream",
     "text": [
      "The Length column contains values equal to zero:\n",
      "       Airline  Flight AirportFrom AirportTo  DayOfWeek  Time  Length  Delay\n",
      "id                                                                          \n",
      "179150      F9     106         DEN       MSP          6   635       0      0\n",
      "182841      F9     107         MSP       DEN          6   851       0      0\n",
      "188954      F9     103         MSP       DEN          7   375       0      0\n",
      "445579      B6     493         BOS       SEA          7  1060       0      1\n"
     ]
    }
   ],
   "source": [
    "def zero_length(data):\n",
    "  zero_length = data[data['Length'] == 0]\n",
    "  if not zero_length.empty:\n",
    "    print(\"The Length column contains values equal to zero:\")\n",
    "    print(zero_length)\n",
    "  else:\n",
    "    print(\"The Length column does not contain values equal to zero.\")\n",
    "    data = zero_length\n",
    "\n",
    "\n",
    "\n",
    "zero_length(data)"
   ]
  },
  {
   "cell_type": "code",
   "execution_count": 10,
   "metadata": {
    "colab": {
     "base_uri": "https://localhost:8080/"
    },
    "executionInfo": {
     "elapsed": 396,
     "status": "ok",
     "timestamp": 1728481895543,
     "user": {
      "displayName": "Herbert Gabriel Almeida Cruz",
      "userId": "18354378107958142042"
     },
     "user_tz": 180
    },
    "id": "M7DOWdI05dIT",
    "outputId": "beb43a67-817e-42ce-a7b7-1fed4d9de0cf"
   },
   "outputs": [
    {
     "name": "stdout",
     "output_type": "stream",
     "text": [
      "The Length column does not contain values equal to zero.\n"
     ]
    }
   ],
   "source": [
    "# Remove zero values from the Length column before removing outliers\n",
    "data_no_zero = data[data['Length'] != 0]\n",
    "\n",
    "# Calculate the first quartile (Q1) and the third quartile (Q3)\n",
    "Q1 = data_no_zero['Length'].quantile(0.25)\n",
    "Q3 = data_no_zero['Length'].quantile(0.75)\n",
    "\n",
    "# Calculate the interquartile range (IQR)\n",
    "IQR = Q3 - Q1\n",
    "\n",
    "lower_bound = Q1 - 1.5 * IQR\n",
    "upper_bound = Q3 + 1.5 * IQR\n",
    "\n",
    "# Filter the data by removing outliers\n",
    "data_cleaned = data_no_zero[(data_no_zero['Length'] >= lower_bound) & (data_no_zero['Length'] <= upper_bound)]\n",
    "\n",
    "zero_length(data_cleaned)"
   ]
  },
  {
   "cell_type": "code",
   "execution_count": 11,
   "metadata": {
    "colab": {
     "base_uri": "https://localhost:8080/",
     "height": 300
    },
    "executionInfo": {
     "elapsed": 364,
     "status": "ok",
     "timestamp": 1728481898996,
     "user": {
      "displayName": "Herbert Gabriel Almeida Cruz",
      "userId": "18354378107958142042"
     },
     "user_tz": 180
    },
    "id": "QYLxbLquQrb3",
    "outputId": "910fa858-28b0-4054-906d-14c4073a3295"
   },
   "outputs": [
    {
     "data": {
      "text/html": [
       "<div>\n",
       "<style scoped>\n",
       "    .dataframe tbody tr th:only-of-type {\n",
       "        vertical-align: middle;\n",
       "    }\n",
       "\n",
       "    .dataframe tbody tr th {\n",
       "        vertical-align: top;\n",
       "    }\n",
       "\n",
       "    .dataframe thead th {\n",
       "        text-align: right;\n",
       "    }\n",
       "</style>\n",
       "<table border=\"1\" class=\"dataframe\">\n",
       "  <thead>\n",
       "    <tr style=\"text-align: right;\">\n",
       "      <th></th>\n",
       "      <th>Length</th>\n",
       "    </tr>\n",
       "  </thead>\n",
       "  <tbody>\n",
       "    <tr>\n",
       "      <th>count</th>\n",
       "      <td>539383.000000</td>\n",
       "    </tr>\n",
       "    <tr>\n",
       "      <th>mean</th>\n",
       "      <td>132.202007</td>\n",
       "    </tr>\n",
       "    <tr>\n",
       "      <th>std</th>\n",
       "      <td>70.117016</td>\n",
       "    </tr>\n",
       "    <tr>\n",
       "      <th>min</th>\n",
       "      <td>0.000000</td>\n",
       "    </tr>\n",
       "    <tr>\n",
       "      <th>25%</th>\n",
       "      <td>81.000000</td>\n",
       "    </tr>\n",
       "    <tr>\n",
       "      <th>50%</th>\n",
       "      <td>115.000000</td>\n",
       "    </tr>\n",
       "    <tr>\n",
       "      <th>75%</th>\n",
       "      <td>162.000000</td>\n",
       "    </tr>\n",
       "    <tr>\n",
       "      <th>max</th>\n",
       "      <td>655.000000</td>\n",
       "    </tr>\n",
       "  </tbody>\n",
       "</table>\n",
       "</div>"
      ],
      "text/plain": [
       "              Length\n",
       "count  539383.000000\n",
       "mean      132.202007\n",
       "std        70.117016\n",
       "min         0.000000\n",
       "25%        81.000000\n",
       "50%       115.000000\n",
       "75%       162.000000\n",
       "max       655.000000"
      ]
     },
     "execution_count": 11,
     "metadata": {},
     "output_type": "execute_result"
    }
   ],
   "source": [
    "# Verifique o min novamente\n",
    "dados[['Length']].describe()"
   ]
  },
  {
   "cell_type": "code",
   "execution_count": 12,
   "metadata": {
    "colab": {
     "base_uri": "https://localhost:8080/",
     "height": 335
    },
    "executionInfo": {
     "elapsed": 362,
     "status": "ok",
     "timestamp": 1728481901109,
     "user": {
      "displayName": "Herbert Gabriel Almeida Cruz",
      "userId": "18354378107958142042"
     },
     "user_tz": 180
    },
    "id": "rjxLI8ciuX8V",
    "outputId": "25f53274-c6c5-424f-d77f-d341d0bb426f"
   },
   "outputs": [
    {
     "data": {
      "text/plain": [
       "Airline        object\n",
       "Flight          int64\n",
       "AirportFrom    object\n",
       "AirportTo      object\n",
       "DayOfWeek       int64\n",
       "Time            int64\n",
       "Length          int64\n",
       "Delay           int64\n",
       "dtype: object"
      ]
     },
     "execution_count": 12,
     "metadata": {},
     "output_type": "execute_result"
    }
   ],
   "source": [
    "# Exibe os tipos de dados de cada coluna\n",
    "dados.dtypes"
   ]
  },
  {
   "cell_type": "code",
   "execution_count": 13,
   "metadata": {
    "colab": {
     "base_uri": "https://localhost:8080/",
     "height": 335
    },
    "executionInfo": {
     "elapsed": 392,
     "status": "ok",
     "timestamp": 1728481903240,
     "user": {
      "displayName": "Herbert Gabriel Almeida Cruz",
      "userId": "18354378107958142042"
     },
     "user_tz": 180
    },
    "id": "46sppNR6uVHN",
    "outputId": "4dc29ef7-311f-4f63-f2b2-75aed7674a93"
   },
   "outputs": [
    {
     "data": {
      "text/plain": [
       "Airline        0\n",
       "Flight         0\n",
       "AirportFrom    0\n",
       "AirportTo      0\n",
       "DayOfWeek      0\n",
       "Time           0\n",
       "Length         0\n",
       "Delay          0\n",
       "dtype: int64"
      ]
     },
     "execution_count": 13,
     "metadata": {},
     "output_type": "execute_result"
    }
   ],
   "source": [
    "# Verifica a quantidade de valores nulos por coluna\n",
    "dados.isnull().sum()"
   ]
  },
  {
   "cell_type": "code",
   "execution_count": 14,
   "metadata": {
    "colab": {
     "base_uri": "https://localhost:8080/"
    },
    "executionInfo": {
     "elapsed": 360,
     "status": "ok",
     "timestamp": 1728481228454,
     "user": {
      "displayName": "Herbert Gabriel Almeida Cruz",
      "userId": "18354378107958142042"
     },
     "user_tz": 180
    },
    "id": "lEwtnA6z0MzQ",
    "outputId": "89552b92-9689-447b-818d-5a48cbff6ec0"
   },
   "outputs": [
    {
     "data": {
      "text/plain": [
       "array([1, 0])"
      ]
     },
     "execution_count": 14,
     "metadata": {},
     "output_type": "execute_result"
    }
   ],
   "source": [
    "dados['Delay'].unique()"
   ]
  },
  {
   "cell_type": "code",
   "execution_count": 15,
   "metadata": {
    "colab": {
     "base_uri": "https://localhost:8080/"
    },
    "executionInfo": {
     "elapsed": 375,
     "status": "ok",
     "timestamp": 1727229588780,
     "user": {
      "displayName": "Herbert Gabriel Almeida Cruz",
      "userId": "18354378107958142042"
     },
     "user_tz": 180
    },
    "id": "Y7tkkqgQ5-DB",
    "outputId": "9e235ca3-9ad6-4349-f560-9d8acb5a789e"
   },
   "outputs": [
    {
     "data": {
      "text/plain": [
       "array(['CO', 'US', 'AA', 'AS', 'DL', 'B6', 'HA', 'OO', '9E', 'OH', 'EV',\n",
       "       'XE', 'YV', 'UA', 'MQ', 'FL', 'F9', 'WN'], dtype=object)"
      ]
     },
     "execution_count": 15,
     "metadata": {},
     "output_type": "execute_result"
    }
   ],
   "source": [
    "dados['Airline'].unique()"
   ]
  },
  {
   "cell_type": "code",
   "execution_count": 16,
   "metadata": {
    "colab": {
     "base_uri": "https://localhost:8080/"
    },
    "executionInfo": {
     "elapsed": 402,
     "status": "ok",
     "timestamp": 1727230205663,
     "user": {
      "displayName": "Herbert Gabriel Almeida Cruz",
      "userId": "18354378107958142042"
     },
     "user_tz": 180
    },
    "id": "ukZH3xQE5_vq",
    "outputId": "b97cfdb9-5511-4fdb-ae88-10a81096d721"
   },
   "outputs": [
    {
     "data": {
      "text/plain": [
       "array(['SFO', 'PHX', 'LAX', 'ANC', 'LAS', 'SLC', 'DEN', 'ONT', 'FAI',\n",
       "       'BQN', 'PSE', 'HNL', 'BIS', 'IYK', 'EWR', 'BOS', 'MKE', 'GFK',\n",
       "       'OMA', 'GSO', 'LMT', 'SEA', 'MCO', 'TPA', 'DLH', 'MSP', 'FAR',\n",
       "       'MFE', 'MSY', 'VPS', 'BWI', 'MAF', 'LWS', 'RST', 'ALB', 'DSM',\n",
       "       'CHS', 'MSN', 'JAX', 'SAT', 'PNS', 'BHM', 'LIT', 'SAV', 'BNA',\n",
       "       'ICT', 'ECP', 'DHN', 'MGM', 'CAE', 'PWM', 'ACV', 'EKO', 'PHL',\n",
       "       'ATL', 'PDX', 'RIC', 'BTR', 'HRL', 'MYR', 'TUS', 'SBN', 'CAK',\n",
       "       'TVC', 'CLE', 'ORD', 'DAY', 'MFR', 'BTV', 'TLH', 'TYS', 'DFW',\n",
       "       'FLL', 'AUS', 'CHA', 'CMH', 'LRD', 'BRO', 'CRP', 'LAN', 'PVD',\n",
       "       'FWA', 'JFK', 'LGA', 'OKC', 'PIT', 'PBI', 'ORF', 'DCA', 'AEX',\n",
       "       'SYR', 'SHV', 'VLD', 'BDL', 'FAT', 'BZN', 'RDM', 'LFT', 'IPL',\n",
       "       'EAU', 'ERI', 'BUF', 'IAH', 'MCI', 'AGS', 'ABI', 'GRR', 'LBB',\n",
       "       'CLT', 'LEX', 'MBS', 'MOD', 'AMA', 'SGF', 'AZO', 'ABE', 'SWF',\n",
       "       'BGM', 'AVP', 'FNT', 'GSP', 'ATW', 'ITH', 'TUL', 'COS', 'ELP',\n",
       "       'ABQ', 'SMF', 'STL', 'IAD', 'DTW', 'RDU', 'RSW', 'OAK', 'ROC',\n",
       "       'IND', 'CVG', 'MDW', 'SDF', 'ABY', 'TRI', 'XNA', 'ROA', 'MLI',\n",
       "       'LYH', 'EVV', 'HPN', 'FAY', 'EWN', 'CSG', 'GPT', 'MLU', 'MOB',\n",
       "       'OAJ', 'CHO', 'ILM', 'BMI', 'PHF', 'ACY', 'JAN', 'CID', 'GRK',\n",
       "       'HOU', 'CRW', 'HTS', 'PSC', 'BOI', 'SBP', 'CLD', 'PSP', 'SBA',\n",
       "       'MEM', 'MRY', 'GEG', 'RDD', 'PAH', 'CMX', 'SPI', 'EUG', 'CIC',\n",
       "       'PIH', 'SGU', 'COD', 'MIA', 'MHT', 'GRB', 'FSD', 'SJU', 'AVL',\n",
       "       'BFL', 'RAP', 'DRO', 'PIA', 'OGG', 'SIT', 'TXK', 'RNO', 'DAL',\n",
       "       'SCE', 'MEI', 'MDT', 'FCA', 'SJC', 'KOA', 'PLN', 'SAN', 'GNV',\n",
       "       'HLN', 'GJT', 'CPR', 'FSM', 'CMI', 'GTF', 'HDN', 'ITO', 'MTJ',\n",
       "       'HSV', 'BTM', 'BIL', 'COU', 'MSO', 'SMX', 'TWF', 'ISP', 'GCC',\n",
       "       'LIH', 'LNK', 'DAB', 'SNA', 'MQT', 'LGB', 'CWA', 'LSE', 'BUR',\n",
       "       'ACT', 'MHK', 'MOT', 'IDA', 'SUN', 'GTR', 'MLB', 'SRQ', 'JAC',\n",
       "       'ASE', 'LCH', 'JNU', 'ROW', 'BQK', 'YUM', 'FLG', 'EGE', 'GUC',\n",
       "       'EYW', 'RKS', 'BGR', 'ELM', 'ADQ', 'OTZ', 'OTH', 'STT', 'KTN',\n",
       "       'BET', 'SJT', 'CDC', 'CEC', 'SPS', 'SCC', 'STX', 'OME', 'MKG',\n",
       "       'WRG', 'TYR', 'BRW', 'GGG', 'PSG', 'BKG', 'YAK', 'CLL', 'SAF',\n",
       "       'CYS', 'LWB', 'CDV', 'FLO', 'BLI', 'DBQ', 'TOL', 'UTM', 'PIE',\n",
       "       'ADK', 'ABR', 'TEX', 'MMH', 'GUM'], dtype=object)"
      ]
     },
     "execution_count": 16,
     "metadata": {},
     "output_type": "execute_result"
    }
   ],
   "source": [
    "dados['AirportFrom'].unique()"
   ]
  },
  {
   "cell_type": "code",
   "execution_count": 17,
   "metadata": {
    "colab": {
     "base_uri": "https://localhost:8080/"
    },
    "executionInfo": {
     "elapsed": 418,
     "status": "ok",
     "timestamp": 1728481912147,
     "user": {
      "displayName": "Herbert Gabriel Almeida Cruz",
      "userId": "18354378107958142042"
     },
     "user_tz": 180
    },
    "id": "Fd_rVsND69oK",
    "outputId": "2ad0b862-7065-471d-eb76-278c6efd9893"
   },
   "outputs": [
    {
     "name": "stdout",
     "output_type": "stream",
     "text": [
      "Quantidade de companhias aéreas distintas: 18\n",
      "Quantidade de modelos de aviões distintos: 6585\n",
      "Quantidade de aeroportos distintos (origem): 293\n",
      "Quantidade de aeroportos distintos (destino): 293\n",
      "Quantidade total de voos: 539383\n"
     ]
    }
   ],
   "source": [
    "print(\"Quantidade de companhias aéreas distintas:\", len(dados['Airline'].unique()))\n",
    "print(\"Quantidade de modelos de aviões distintos:\", len(dados['Flight'].unique()))\n",
    "print(\"Quantidade de aeroportos distintos (origem):\", len(dados['AirportFrom'].unique()))\n",
    "print(\"Quantidade de aeroportos distintos (destino):\", len(dados['AirportTo'].unique()))\n",
    "print(\"Quantidade total de voos:\", len(dados))\n"
   ]
  },
  {
   "cell_type": "code",
   "execution_count": 18,
   "metadata": {
    "colab": {
     "base_uri": "https://localhost:8080/"
    },
    "executionInfo": {
     "elapsed": 339,
     "status": "ok",
     "timestamp": 1728481914749,
     "user": {
      "displayName": "Herbert Gabriel Almeida Cruz",
      "userId": "18354378107958142042"
     },
     "user_tz": 180
    },
    "id": "xcdUFPEuFLEL",
    "outputId": "d65754dc-dc85-4f3e-c536-bea491280df9"
   },
   "outputs": [
    {
     "name": "stdout",
     "output_type": "stream",
     "text": [
      "Value counts for Airline:\n",
      "Airline\n",
      "WN    94097\n",
      "DL    60940\n",
      "OO    50254\n",
      "AA    45656\n",
      "MQ    36605\n",
      "US    34500\n",
      "XE    31126\n",
      "EV    27983\n",
      "UA    27619\n",
      "CO    21118\n",
      "FL    20827\n",
      "9E    20686\n",
      "B6    18112\n",
      "YV    13725\n",
      "OH    12630\n",
      "AS    11471\n",
      "F9     6456\n",
      "HA     5578\n",
      "Name: count, dtype: int64\n",
      "\n",
      "\n",
      "Value counts for Flight:\n",
      "Flight\n",
      "16      420\n",
      "5       407\n",
      "9       401\n",
      "8       396\n",
      "62      364\n",
      "       ... \n",
      "5131      1\n",
      "5559      1\n",
      "3349      1\n",
      "3413      1\n",
      "3184      1\n",
      "Name: count, Length: 6585, dtype: int64\n",
      "\n",
      "\n",
      "Value counts for AirportFrom:\n",
      "AirportFrom\n",
      "ATL    34449\n",
      "ORD    24822\n",
      "DFW    22154\n",
      "DEN    19843\n",
      "LAX    16657\n",
      "       ...  \n",
      "MMH       16\n",
      "SJT       15\n",
      "GUM       10\n",
      "ADK        9\n",
      "ABR        2\n",
      "Name: count, Length: 293, dtype: int64\n",
      "\n",
      "\n",
      "Value counts for AirportTo:\n",
      "AirportTo\n",
      "ATL    34440\n",
      "ORD    24871\n",
      "DFW    22153\n",
      "DEN    19848\n",
      "LAX    16656\n",
      "       ...  \n",
      "MMH       16\n",
      "SJT       15\n",
      "GUM       10\n",
      "ADK        9\n",
      "ABR        2\n",
      "Name: count, Length: 293, dtype: int64\n",
      "\n",
      "\n",
      "Value counts for DayOfWeek:\n",
      "DayOfWeek\n",
      "4    91445\n",
      "3    89746\n",
      "5    85248\n",
      "1    72769\n",
      "2    71340\n",
      "7    69879\n",
      "6    58956\n",
      "Name: count, dtype: int64\n",
      "\n",
      "\n",
      "Value counts for Time:\n",
      "Time\n",
      "360     10784\n",
      "420      6644\n",
      "390      4279\n",
      "480      4058\n",
      "450      3804\n",
      "        ...  \n",
      "44          1\n",
      "21          1\n",
      "1387        1\n",
      "359         1\n",
      "37          1\n",
      "Name: count, Length: 1131, dtype: int64\n",
      "\n",
      "\n",
      "Value counts for Length:\n",
      "Length\n",
      "80     13339\n",
      "70     13086\n",
      "65     11894\n",
      "85     11840\n",
      "75     11813\n",
      "       ...  \n",
      "418        2\n",
      "457        2\n",
      "481        2\n",
      "417        2\n",
      "23         1\n",
      "Name: count, Length: 426, dtype: int64\n",
      "\n",
      "\n",
      "Value counts for Delay:\n",
      "Delay\n",
      "0    299119\n",
      "1    240264\n",
      "Name: count, dtype: int64\n",
      "\n",
      "\n"
     ]
    }
   ],
   "source": [
    "# Verificar balanceamento de classe\n",
    "for col in ['Airline', 'Flight', 'AirportFrom', 'AirportTo', 'DayOfWeek', 'Time', 'Length', 'Delay']:\n",
    "  print(f\"Value counts for {col}:\")\n",
    "  print(dados[col].value_counts())\n",
    "  print(\"\\n\")"
   ]
  },
  {
   "cell_type": "code",
   "execution_count": 32,
   "metadata": {
    "colab": {
     "base_uri": "https://localhost:8080/",
     "height": 178
    },
    "executionInfo": {
     "elapsed": 378,
     "status": "ok",
     "timestamp": 1728481918609,
     "user": {
      "displayName": "Herbert Gabriel Almeida Cruz",
      "userId": "18354378107958142042"
     },
     "user_tz": 180
    },
    "id": "nYUP_SVS66WK",
    "outputId": "644bf22d-2c1b-4b31-9d45-26e00a6b720e"
   },
   "outputs": [
    {
     "data": {
      "text/plain": [
       "Delay\n",
       "0    228164\n",
       "1    228164\n",
       "Name: count, dtype: int64"
      ]
     },
     "execution_count": 32,
     "metadata": {},
     "output_type": "execute_result"
    }
   ],
   "source": [
    "# classes majoritária e minoritária\n",
    "class_maj = data_cleaned[data_cleaned['Delay'] == 0]\n",
    "class_min = data_cleaned[data_cleaned['Delay'] == 1]\n",
    "\n",
    "class_maj_subamostrada = class_maj.sample(len(class_min), random_state=42)\n",
    "\n",
    "dados_balanceados = pd.concat([class_maj_subamostrada, class_min])\n",
    "\n",
    "dados_balanceados = dados_balanceados.sample(frac=1, random_state=42).reset_index(drop=True)\n",
    "\n",
    "dados_balanceados['Delay'].value_counts()"
   ]
  },
  {
   "cell_type": "code",
   "execution_count": null,
   "metadata": {
    "colab": {
     "base_uri": "https://localhost:8080/"
    },
    "executionInfo": {
     "elapsed": 424,
     "status": "ok",
     "timestamp": 1728481923721,
     "user": {
      "displayName": "Herbert Gabriel Almeida Cruz",
      "userId": "18354378107958142042"
     },
     "user_tz": 180
    },
    "id": "NWqN09-NRhtT",
    "outputId": "48eb028e-00b2-42aa-be2d-30802830edfd"
   },
   "outputs": [
    {
     "data": {
      "text/plain": [
       "(456328, 8)"
      ]
     },
     "execution_count": 136,
     "metadata": {},
     "output_type": "execute_result"
    }
   ],
   "source": [
    "dados_balanceados.shape"
   ]
  },
  {
   "cell_type": "markdown",
   "metadata": {
    "id": "84fFx9OoxaER"
   },
   "source": [
    "# Vizualizações graficas dos dados\n"
   ]
  },
  {
   "cell_type": "code",
   "execution_count": null,
   "metadata": {
    "executionInfo": {
     "elapsed": 455,
     "status": "ok",
     "timestamp": 1728481935218,
     "user": {
      "displayName": "Herbert Gabriel Almeida Cruz",
      "userId": "18354378107958142042"
     },
     "user_tz": 180
    },
    "id": "xHqnuPsFjmDq"
   },
   "outputs": [],
   "source": [
    "import matplotlib.pyplot as plt\n",
    "import seaborn as sns"
   ]
  },
  {
   "cell_type": "markdown",
   "metadata": {
    "id": "1Gn7twQE3Mgy"
   },
   "source": [
    "## Numero de voos por Companhias aéreas\n",
    "\n",
    "\n",
    "\n"
   ]
  },
  {
   "cell_type": "code",
   "execution_count": null,
   "metadata": {
    "colab": {
     "base_uri": "https://localhost:8080/",
     "height": 473
    },
    "executionInfo": {
     "elapsed": 1665,
     "status": "ok",
     "timestamp": 1728482090181,
     "user": {
      "displayName": "Herbert Gabriel Almeida Cruz",
      "userId": "18354378107958142042"
     },
     "user_tz": 180
    },
    "id": "ape0BT7bhJ6j",
    "outputId": "f98c7916-3aa9-4335-9b34-d834407c07f1"
   },
   "outputs": [
    {
     "name": "stderr",
     "output_type": "stream",
     "text": [
      "<>:6: SyntaxWarning: invalid escape sequence '\\s'\n",
      "<>:6: SyntaxWarning: invalid escape sequence '\\s'\n",
      "C:\\Users\\herbe\\AppData\\Local\\Temp\\ipykernel_4024\\3521049138.py:6: SyntaxWarning: invalid escape sequence '\\s'\n",
      "  plt.savefig('..\\static\\image\\graficos\\Vooscompanhias.png')\n"
     ]
    },
    {
     "data": {
      "image/png": "[encoded data removed]",
      "text/plain": [
       "<Figure size 640x480 with 1 Axes>"
      ]
     },
     "metadata": {},
     "output_type": "display_data"
    }
   ],
   "source": [
    "# Companhias aéreas\n",
    "sns.countplot(x='Airline', data=dados)\n",
    "plt.xlabel('Companhia aérea')\n",
    "plt.ylabel('Quantidade de voos')\n",
    "plt.title('Número de voos por companhia aérea')\n",
    "plt.savefig('..\\static\\image\\graficos\\Vooscompanhias.png')\n",
    "plt.show()\n",
    "\n"
   ]
  },
  {
   "cell_type": "markdown",
   "metadata": {
    "id": "DKXnTIJV3F1D"
   },
   "source": [
    "## Número de voos por dia da semana\n"
   ]
  },
  {
   "cell_type": "code",
   "execution_count": null,
   "metadata": {
    "colab": {
     "base_uri": "https://localhost:8080/",
     "height": 472
    },
    "executionInfo": {
     "elapsed": 2082,
     "status": "ok",
     "timestamp": 1728481484125,
     "user": {
      "displayName": "Herbert Gabriel Almeida Cruz",
      "userId": "18354378107958142042"
     },
     "user_tz": 180
    },
    "id": "yt1AFUDAiJux",
    "outputId": "e1f603ed-f73a-4f77-9606-98f64acb78a9"
   },
   "outputs": [
    {
     "name": "stderr",
     "output_type": "stream",
     "text": [
      "<>:6: SyntaxWarning: invalid escape sequence '\\s'\n",
      "<>:6: SyntaxWarning: invalid escape sequence '\\s'\n",
      "C:\\Users\\herbe\\AppData\\Local\\Temp\\ipykernel_4024\\659446494.py:6: SyntaxWarning: invalid escape sequence '\\s'\n",
      "  plt.savefig('..\\static\\image\\graficos\\Voossemana.png')\n"
     ]
    },
    {
     "data": {
      "image/png": "[encoded data removed]",
      "text/plain": [
       "<Figure size 640x480 with 1 Axes>"
      ]
     },
     "metadata": {},
     "output_type": "display_data"
    }
   ],
   "source": [
    "# Número de voos por dia da semana\n",
    "sns.countplot(data=dados, x='DayOfWeek')\n",
    "plt.title('Número de voos por dia da semana')\n",
    "plt.xlabel('Dia da semana')\n",
    "plt.ylabel('Número de voos')\n",
    "plt.savefig('..\\static\\image\\graficos\\Voossemana.png')\n",
    "plt.show()\n"
   ]
  },
  {
   "cell_type": "markdown",
   "metadata": {
    "id": "llKOv54o2PIl"
   },
   "source": [
    "## Quantidade de atraso de voos"
   ]
  },
  {
   "cell_type": "code",
   "execution_count": null,
   "metadata": {
    "colab": {
     "base_uri": "https://localhost:8080/",
     "height": 490
    },
    "executionInfo": {
     "elapsed": 1532,
     "status": "ok",
     "timestamp": 1728481737075,
     "user": {
      "displayName": "Herbert Gabriel Almeida Cruz",
      "userId": "18354378107958142042"
     },
     "user_tz": 180
    },
    "id": "AENlKdX_hZv0",
    "outputId": "2a1d3913-7e38-4809-c4a3-45177cccc9f5"
   },
   "outputs": [
    {
     "name": "stderr",
     "output_type": "stream",
     "text": [
      "<>:6: SyntaxWarning: invalid escape sequence '\\s'\n",
      "<>:6: SyntaxWarning: invalid escape sequence '\\s'\n",
      "C:\\Users\\herbe\\AppData\\Local\\Temp\\ipykernel_4024\\4191557567.py:6: SyntaxWarning: invalid escape sequence '\\s'\n",
      "  plt.savefig('..\\static\\image\\graficos\\Voosatrasados.png')\n"
     ]
    },
    {
     "data": {
      "image/png": "[encoded data removed]",
      "text/plain": [
       "<Figure size 640x480 with 1 Axes>"
      ]
     },
     "metadata": {},
     "output_type": "display_data"
    },
    {
     "name": "stdout",
     "output_type": "stream",
     "text": [
      "Quantidade de voos que se atrasaram: 240264\n"
     ]
    }
   ],
   "source": [
    "# Quantidade de atrasos\n",
    "sns.countplot(x = 'Delay', data = dados)\n",
    "plt.title('Grafico de atraso de voos')\n",
    "plt.xlabel('(0 = não atrasou, 1 = se atrasou)')\n",
    "plt.ylabel('Quantidade de voos')\n",
    "plt.savefig('..\\static\\image\\graficos\\Voosatrasados.png')\n",
    "plt.show()\n",
    "\n",
    "quantidade_atrasos = dados[dados['Delay'] == 1].shape[0]\n",
    "print(f\"Quantidade de voos que se atrasaram: {quantidade_atrasos}\")\n"
   ]
  },
  {
   "cell_type": "markdown",
   "metadata": {
    "id": "xAxmw22U6PH2"
   },
   "source": [
    "## Atraso por Companhia Aérea (Delay vs Airline)\n",
    "\n",
    "\n"
   ]
  },
  {
   "cell_type": "code",
   "execution_count": null,
   "metadata": {
    "colab": {
     "base_uri": "https://localhost:8080/",
     "height": 504
    },
    "executionInfo": {
     "elapsed": 755,
     "status": "ok",
     "timestamp": 1727482944426,
     "user": {
      "displayName": "Herbert Gabriel Almeida Cruz",
      "userId": "18354378107958142042"
     },
     "user_tz": 180
    },
    "id": "QTzXXYGRyB_K",
    "outputId": "f6369942-892b-4a1e-a525-10fdef91c0f5"
   },
   "outputs": [
    {
     "name": "stderr",
     "output_type": "stream",
     "text": [
      "<>:16: SyntaxWarning: invalid escape sequence '\\s'\n",
      "<>:16: SyntaxWarning: invalid escape sequence '\\s'\n",
      "C:\\Users\\herbe\\AppData\\Local\\Temp\\ipykernel_4024\\2638569002.py:16: SyntaxWarning: invalid escape sequence '\\s'\n",
      "  plt.savefig('..\\static\\image\\graficos\\Atrasoscompanhia.png')\n"
     ]
    },
    {
     "data": {
      "image/png": "[encoded data removed]",
      "text/plain": [
       "<Figure size 640x480 with 1 Axes>"
      ]
     },
     "metadata": {},
     "output_type": "display_data"
    },
    {
     "name": "stdout",
     "output_type": "stream",
     "text": [
      "Companhia aérea com mais atrasos: WN com 65657 atrasos.\n"
     ]
    }
   ],
   "source": [
    "# Filtra os dados para incluir apenas os voos atrasados\n",
    "atrasos = dados[dados['Delay'] == 1]\n",
    "\n",
    "# Calcula a média de atrasos por companhia aérea\n",
    "media_atrasos = atrasos['Airline'].value_counts().reset_index()\n",
    "media_atrasos.columns = ['Airline', 'Number of Delays']\n",
    "\n",
    "# Encontra a companhia aérea com mais atrasos\n",
    "companhia_mais_atrasada = media_atrasos.loc[media_atrasos['Number of Delays'].idxmax()]\n",
    "\n",
    "sns.barplot(x='Airline', y='Number of Delays', data=media_atrasos)\n",
    "plt.title('Número de Atrasos por Companhia Aérea')\n",
    "plt.xlabel('Companhia Aérea')\n",
    "plt.ylabel('Número de Atrasos')\n",
    "plt.xticks(rotation=45)\n",
    "plt.savefig('..\\static\\image\\graficos\\Atrasoscompanhia.png')\n",
    "plt.show()\n",
    "\n",
    "# Mostra a companhia aérea que mais se atrasou\n",
    "print(f\"Companhia aérea com mais atrasos: {companhia_mais_atrasada['Airline']} com {companhia_mais_atrasada['Number of Delays']} atrasos.\")\n"
   ]
  },
  {
   "cell_type": "code",
   "execution_count": 29,
   "metadata": {},
   "outputs": [
    {
     "name": "stderr",
     "output_type": "stream",
     "text": [
      "<>:18: SyntaxWarning: invalid escape sequence '\\s'\n",
      "<>:18: SyntaxWarning: invalid escape sequence '\\s'\n",
      "C:\\Users\\herbe\\AppData\\Local\\Temp\\ipykernel_16164\\169415051.py:18: SyntaxWarning: invalid escape sequence '\\s'\n",
      "  plt.savefig('..\\static\\image\\graficos\\DelaysByAirlineAndTime.png')\n",
      "C:\\Users\\herbe\\AppData\\Local\\Temp\\ipykernel_16164\\169415051.py:9: SettingWithCopyWarning: \n",
      "A value is trying to be set on a copy of a slice from a DataFrame.\n",
      "Try using .loc[row_indexer,col_indexer] = value instead\n",
      "\n",
      "See the caveats in the documentation: https://pandas.pydata.org/pandas-docs/stable/user_guide/indexing.html#returning-a-view-versus-a-copy\n",
      "  delays['Time_hours'] = delays['Time'] / 60\n"
     ]
    },
    {
     "data": {
      "image/png": "[encoded data removed]",
      "text/plain": [
       "<Figure size 1200x800 with 1 Axes>"
      ]
     },
     "metadata": {},
     "output_type": "display_data"
    },
    {
     "name": "stdout",
     "output_type": "stream",
     "text": [
      "Insights for CO:\n",
      "  Median delay time: 13.73 hours\n",
      "  Mean delay time: 13.66 hours\n",
      "  Minimum delay time: 0.25 hours\n",
      "  Maximum delay time: 23.98 hours\n",
      "  First quartile (Q1): 9.83 hours\n",
      "  Third quartile (Q3): 17.58 hours\n",
      "  Interquartile range (IQR): 7.75 hours\n",
      "  Number of outliers: 0\n",
      "\n",
      "Insights for US:\n",
      "  Median delay time: 14.33 hours\n",
      "  Mean delay time: 14.09 hours\n",
      "  Minimum delay time: 0.25 hours\n",
      "  Maximum delay time: 23.98 hours\n",
      "  First quartile (Q1): 10.08 hours\n",
      "  Third quartile (Q3): 17.98 hours\n",
      "  Interquartile range (IQR): 7.90 hours\n",
      "  Number of outliers: 0\n",
      "\n",
      "Insights for AA:\n",
      "  Median delay time: 14.58 hours\n",
      "  Mean delay time: 14.29 hours\n",
      "  Minimum delay time: 0.33 hours\n",
      "  Maximum delay time: 23.92 hours\n",
      "  First quartile (Q1): 10.83 hours\n",
      "  Third quartile (Q3): 17.92 hours\n",
      "  Interquartile range (IQR): 7.08 hours\n",
      "  Number of outliers: 0\n",
      "\n",
      "Insights for DL:\n",
      "  Median delay time: 14.42 hours\n",
      "  Mean delay time: 14.30 hours\n",
      "  Minimum delay time: 0.17 hours\n",
      "  Maximum delay time: 23.92 hours\n",
      "  First quartile (Q1): 10.83 hours\n",
      "  Third quartile (Q3): 17.82 hours\n",
      "  Interquartile range (IQR): 6.98 hours\n",
      "  Number of outliers: 3\n",
      "\n",
      "Insights for HA:\n",
      "  Median delay time: 14.53 hours\n",
      "  Mean delay time: 13.96 hours\n",
      "  Minimum delay time: 1.67 hours\n",
      "  Maximum delay time: 23.67 hours\n",
      "  First quartile (Q1): 10.83 hours\n",
      "  Third quartile (Q3): 16.80 hours\n",
      "  Interquartile range (IQR): 5.97 hours\n",
      "  Number of outliers: 17\n",
      "\n",
      "Insights for OH:\n",
      "  Median delay time: 14.33 hours\n",
      "  Mean delay time: 14.00 hours\n",
      "  Minimum delay time: 5.25 hours\n",
      "  Maximum delay time: 22.00 hours\n",
      "  First quartile (Q1): 10.51 hours\n",
      "  Third quartile (Q3): 17.42 hours\n",
      "  Interquartile range (IQR): 6.91 hours\n",
      "  Number of outliers: 0\n",
      "\n",
      "Insights for 9E:\n",
      "  Median delay time: 13.79 hours\n",
      "  Mean delay time: 13.69 hours\n",
      "  Minimum delay time: 5.00 hours\n",
      "  Maximum delay time: 22.88 hours\n",
      "  First quartile (Q1): 10.32 hours\n",
      "  Third quartile (Q3): 17.00 hours\n",
      "  Interquartile range (IQR): 6.68 hours\n",
      "  Number of outliers: 0\n",
      "\n",
      "Insights for OO:\n",
      "  Median delay time: 14.17 hours\n",
      "  Mean delay time: 14.11 hours\n",
      "  Minimum delay time: 0.50 hours\n",
      "  Maximum delay time: 23.53 hours\n",
      "  First quartile (Q1): 10.62 hours\n",
      "  Third quartile (Q3): 17.52 hours\n",
      "  Interquartile range (IQR): 6.90 hours\n",
      "  Number of outliers: 0\n",
      "\n",
      "Insights for EV:\n",
      "  Median delay time: 14.30 hours\n",
      "  Mean delay time: 14.03 hours\n",
      "  Minimum delay time: 5.37 hours\n",
      "  Maximum delay time: 22.90 hours\n",
      "  First quartile (Q1): 10.80 hours\n",
      "  Third quartile (Q3): 17.08 hours\n",
      "  Interquartile range (IQR): 6.28 hours\n",
      "  Number of outliers: 0\n",
      "\n",
      "Insights for XE:\n",
      "  Median delay time: 14.50 hours\n",
      "  Mean delay time: 14.17 hours\n",
      "  Minimum delay time: 5.33 hours\n",
      "  Maximum delay time: 23.08 hours\n",
      "  First quartile (Q1): 11.00 hours\n",
      "  Third quartile (Q3): 17.50 hours\n",
      "  Interquartile range (IQR): 6.50 hours\n",
      "  Number of outliers: 0\n",
      "\n",
      "Insights for MQ:\n",
      "  Median delay time: 14.00 hours\n",
      "  Mean delay time: 13.86 hours\n",
      "  Minimum delay time: 5.67 hours\n",
      "  Maximum delay time: 22.75 hours\n",
      "  First quartile (Q1): 10.50 hours\n",
      "  Third quartile (Q3): 17.42 hours\n",
      "  Interquartile range (IQR): 6.92 hours\n",
      "  Number of outliers: 0\n",
      "\n",
      "Insights for B6:\n",
      "  Median delay time: 14.65 hours\n",
      "  Mean delay time: 14.47 hours\n",
      "  Minimum delay time: 0.98 hours\n",
      "  Maximum delay time: 23.98 hours\n",
      "  First quartile (Q1): 10.83 hours\n",
      "  Third quartile (Q3): 18.50 hours\n",
      "  Interquartile range (IQR): 7.67 hours\n",
      "  Number of outliers: 0\n",
      "\n",
      "Insights for F9:\n",
      "  Median delay time: 15.00 hours\n",
      "  Mean delay time: 14.55 hours\n",
      "  Minimum delay time: 6.00 hours\n",
      "  Maximum delay time: 23.67 hours\n",
      "  First quartile (Q1): 10.83 hours\n",
      "  Third quartile (Q3): 18.25 hours\n",
      "  Interquartile range (IQR): 7.42 hours\n",
      "  Number of outliers: 0\n",
      "\n",
      "Insights for FL:\n",
      "  Median delay time: 15.82 hours\n",
      "  Mean delay time: 15.47 hours\n",
      "  Minimum delay time: 5.25 hours\n",
      "  Maximum delay time: 23.98 hours\n",
      "  First quartile (Q1): 11.92 hours\n",
      "  Third quartile (Q3): 18.98 hours\n",
      "  Interquartile range (IQR): 7.07 hours\n",
      "  Number of outliers: 0\n",
      "\n",
      "Insights for UA:\n",
      "  Median delay time: 14.00 hours\n",
      "  Mean delay time: 14.13 hours\n",
      "  Minimum delay time: 5.52 hours\n",
      "  Maximum delay time: 23.98 hours\n",
      "  First quartile (Q1): 10.12 hours\n",
      "  Third quartile (Q3): 17.90 hours\n",
      "  Interquartile range (IQR): 7.78 hours\n",
      "  Number of outliers: 0\n",
      "\n",
      "Insights for WN:\n",
      "  Median delay time: 14.33 hours\n",
      "  Mean delay time: 14.12 hours\n",
      "  Minimum delay time: 6.00 hours\n",
      "  Maximum delay time: 22.75 hours\n",
      "  First quartile (Q1): 10.58 hours\n",
      "  Third quartile (Q3): 17.58 hours\n",
      "  Interquartile range (IQR): 7.00 hours\n",
      "  Number of outliers: 0\n",
      "\n",
      "Insights for YV:\n",
      "  Median delay time: 15.17 hours\n",
      "  Mean delay time: 14.91 hours\n",
      "  Minimum delay time: 0.83 hours\n",
      "  Maximum delay time: 23.98 hours\n",
      "  First quartile (Q1): 11.79 hours\n",
      "  Third quartile (Q3): 18.07 hours\n",
      "  Interquartile range (IQR): 6.28 hours\n",
      "  Number of outliers: 7\n",
      "\n",
      "Insights for AS:\n",
      "  Median delay time: 14.00 hours\n",
      "  Mean delay time: 14.01 hours\n",
      "  Minimum delay time: 0.33 hours\n",
      "  Maximum delay time: 23.92 hours\n",
      "  First quartile (Q1): 10.00 hours\n",
      "  Third quartile (Q3): 18.13 hours\n",
      "  Interquartile range (IQR): 8.13 hours\n",
      "  Number of outliers: 0\n",
      "\n"
     ]
    }
   ],
   "source": [
    "# Filtra os dados para incluir apenas os voos atrasados\n",
    "delays = data[data['Delay'] == 1]\n",
    "\n",
    "# Transformar a coluna Time de minutos para horas\n",
    "delays['Time_hours'] = delays['Time'] / 60\n",
    "\n",
    "# Criar um boxplot para visualizar os horários dos atrasos por companhia aérea\n",
    "plt.figure(figsize=(12, 8))\n",
    "sns.boxplot(x='Airline', y='Time_hours', data=delays, showmeans=True, meanline=True)\n",
    "plt.title('Delay Times by Airline')\n",
    "plt.xlabel('Airline')\n",
    "plt.ylabel('Delay Times (hours)')\n",
    "plt.xticks(rotation=45)\n",
    "plt.savefig('..\\static\\image\\graficos\\DelaysByAirlineAndTime.png')\n",
    "plt.show()\n",
    "\n",
    "# Analisar os insights dos dados\n",
    "for airline in delays['Airline'].unique():\n",
    "    airline_data = delays[delays['Airline'] == airline]\n",
    "    median_delay = airline_data['Time_hours'].median()\n",
    "    mean_delay = airline_data['Time_hours'].mean()\n",
    "    min_delay = airline_data['Time_hours'].min()\n",
    "    max_delay = airline_data['Time_hours'].max()\n",
    "    q1 = airline_data['Time_hours'].quantile(0.25)\n",
    "    q3 = airline_data['Time_hours'].quantile(0.75)\n",
    "    iqr = q3 - q1\n",
    "    outliers = airline_data[(airline_data['Time_hours'] < (q1 - 1.5 * iqr)) | (airline_data['Time_hours'] > (q3 + 1.5 * iqr))]\n",
    "\n",
    "    print(f\"Insights for {airline}:\")\n",
    "    print(f\"  Median delay time: {median_delay:.2f} hours\")\n",
    "    print(f\"  Mean delay time: {mean_delay:.2f} hours\")\n",
    "    print(f\"  Minimum delay time: {min_delay:.2f} hours\")\n",
    "    print(f\"  Maximum delay time: {max_delay:.2f} hours\")\n",
    "    print(f\"  First quartile (Q1): {q1:.2f} hours\")\n",
    "    print(f\"  Third quartile (Q3): {q3:.2f} hours\")\n",
    "    print(f\"  Interquartile range (IQR): {iqr:.2f} hours\")\n",
    "    print(f\"  Number of outliers: {len(outliers)}\")\n",
    "    print()"
   ]
  },
  {
   "cell_type": "markdown",
   "metadata": {
    "id": "uhJX0-ua6btJ"
   },
   "source": [
    "## Voos Atrasados por Dia da Semana (Delay vs DayOfWeek)\n"
   ]
  },
  {
   "cell_type": "code",
   "execution_count": null,
   "metadata": {
    "colab": {
     "base_uri": "https://localhost:8080/",
     "height": 512
    },
    "executionInfo": {
     "elapsed": 1089,
     "status": "ok",
     "timestamp": 1727231103585,
     "user": {
      "displayName": "Herbert Gabriel Almeida Cruz",
      "userId": "18354378107958142042"
     },
     "user_tz": 180
    },
    "id": "t8iuPsRV0tZ5",
    "outputId": "444026dc-256e-4f44-cfa0-14770aa8e9f7"
   },
   "outputs": [
    {
     "name": "stderr",
     "output_type": "stream",
     "text": [
      "<>:27: SyntaxWarning: invalid escape sequence '\\s'\n",
      "<>:27: SyntaxWarning: invalid escape sequence '\\s'\n",
      "C:\\Users\\herbe\\AppData\\Local\\Temp\\ipykernel_4024\\1320522279.py:27: SyntaxWarning: invalid escape sequence '\\s'\n",
      "  plt.savefig('..\\static\\image\\graficos\\Voosatrasadossemana.png')\n"
     ]
    },
    {
     "data": {
      "image/png": "[encoded data removed]",
      "text/plain": [
       "<Figure size 640x480 with 1 Axes>"
      ]
     },
     "metadata": {},
     "output_type": "display_data"
    },
    {
     "name": "stdout",
     "output_type": "stream",
     "text": [
      "Dia da semana com mais atrasos: Terça com 42254 atrasos.\n"
     ]
    }
   ],
   "source": [
    "# Filtra os dados para incluir apenas os voos atrasados\n",
    "atrasos = dados[dados['Delay'] == 1]\n",
    "\n",
    "# Calcula o número de atrasos por dia da semana\n",
    "media_atrasos = atrasos['DayOfWeek'].value_counts().reset_index()\n",
    "media_atrasos.columns = ['DayOfWeek', 'NumberDelays']\n",
    "\n",
    "# Encontra o dia da semana com mais atrasos\n",
    "dia_mais_atrasado = media_atrasos.loc[media_atrasos['NumberDelays'].idxmax()]\n",
    "\n",
    "# Dicionário para mapear números para nomes dos dias\n",
    "dias_da_semana = {\n",
    "    1: \"Domingo\",\n",
    "    2: \"Segunda\",\n",
    "    3: \"Terça\",\n",
    "    4: \"Quarta\",\n",
    "    5: \"Quinta\",\n",
    "    6: \"Sexta\",\n",
    "    7: \"Sábado\"\n",
    "}\n",
    "\n",
    "sns.barplot(x='DayOfWeek', y='NumberDelays', data=media_atrasos)\n",
    "plt.title('Number of Delays by Day of the Week')\n",
    "plt.xlabel('Day of the Week')\n",
    "plt.ylabel('Number of Delays')\n",
    "plt.xticks(rotation=45)\n",
    "plt.savefig('..\\static\\image\\graficos\\Voosatrasadossemana.png')\n",
    "plt.show()\n",
    "\n",
    "# Mostra o dia da semana com mais atrasos usando o dicionário\n",
    "dia_nome = dias_da_semana[dia_mais_atrasado['DayOfWeek']]\n",
    "print(f\"Dia da semana com mais atrasos: {dia_nome} com {dia_mais_atrasado['NumberDelays']} atrasos.\")\n"
   ]
  },
  {
   "cell_type": "markdown",
   "metadata": {
    "id": "ME02Ot1T8RPp"
   },
   "source": [
    "## Duração do Voo por Companhia Aérea (Flight Length vs Airline):\n",
    "\n"
   ]
  },
  {
   "cell_type": "code",
   "execution_count": null,
   "metadata": {
    "colab": {
     "base_uri": "https://localhost:8080/",
     "height": 795
    },
    "executionInfo": {
     "elapsed": 856,
     "status": "ok",
     "timestamp": 1728481713621,
     "user": {
      "displayName": "Herbert Gabriel Almeida Cruz",
      "userId": "18354378107958142042"
     },
     "user_tz": 180
    },
    "id": "cdQelXZAELT_",
    "outputId": "50756047-9311-44b0-958b-c3ed6015ef67"
   },
   "outputs": [
    {
     "name": "stderr",
     "output_type": "stream",
     "text": [
      "<>:9: SyntaxWarning: invalid escape sequence '\\s'\n",
      "<>:9: SyntaxWarning: invalid escape sequence '\\s'\n",
      "C:\\Users\\herbe\\AppData\\Local\\Temp\\ipykernel_4024\\1304249063.py:9: SyntaxWarning: invalid escape sequence '\\s'\n",
      "  plt.savefig('..\\static\\image\\graficos\\Duracaovooporcompanhia.png')\n"
     ]
    },
    {
     "data": {
      "image/png": "[encoded data removed]",
      "text/plain": [
       "<Figure size 640x480 with 1 Axes>"
      ]
     },
     "metadata": {},
     "output_type": "display_data"
    },
    {
     "name": "stdout",
     "output_type": "stream",
     "text": [
      "Companhia aérea: 9E, Duração média do voo: 1 horas e 36 minutos.\n",
      "Companhia aérea: AA, Duração média do voo: 2 horas e 39 minutos.\n",
      "Companhia aérea: AS, Duração média do voo: 2 horas e 23 minutos.\n",
      "Companhia aérea: B6, Duração média do voo: 2 horas e 30 minutos.\n",
      "Companhia aérea: CO, Duração média do voo: 2 horas e 53 minutos.\n",
      "Companhia aérea: DL, Duração média do voo: 2 horas e 23 minutos.\n",
      "Companhia aérea: EV, Duração média do voo: 1 horas e 31 minutos.\n",
      "Companhia aérea: F9, Duração média do voo: 2 horas e 31 minutos.\n",
      "Companhia aérea: FL, Duração média do voo: 2 horas e 8 minutos.\n",
      "Companhia aérea: HA, Duração média do voo: 0 horas e 39 minutos.\n",
      "Companhia aérea: MQ, Duração média do voo: 1 horas e 44 minutos.\n",
      "Companhia aérea: OH, Duração média do voo: 1 horas e 49 minutos.\n",
      "Companhia aérea: OO, Duração média do voo: 1 horas e 33 minutos.\n",
      "Companhia aérea: UA, Duração média do voo: 2 horas e 35 minutos.\n",
      "Companhia aérea: US, Duração média do voo: 2 horas e 9 minutos.\n",
      "Companhia aérea: WN, Duração média do voo: 1 horas e 53 minutos.\n",
      "Companhia aérea: XE, Duração média do voo: 1 horas e 49 minutos.\n",
      "Companhia aérea: YV, Duração média do voo: 1 horas e 29 minutos.\n"
     ]
    }
   ],
   "source": [
    "# Duração em horas\n",
    "dados_balanceados['Length_horas'] = dados_balanceados['Length'] / 60\n",
    "\n",
    "average_delay = dados_balanceados.groupby('Airline')['Length_horas'].mean().reset_index()\n",
    "sns.barplot(x='Airline', y='Length_horas', data=average_delay)\n",
    "plt.title('Flight Duration by Airline')\n",
    "plt.xlabel('Airline')\n",
    "plt.ylabel('Flight Duration in Hours')\n",
    "plt.savefig('..\\static\\image\\graficos\\Duracaovooporcompanhia.png')\n",
    "plt.show()\n",
    "for index, row in average_delay.iterrows():\n",
    "    horas_inteiras = int(row['Length_horas'])\n",
    "    minutos = int((row['Length_horas'] - horas_inteiras) * 60)\n",
    "    print(f\"Companhia aérea: {row['Airline']}, Duração média do voo: {horas_inteiras} horas e {minutos} minutos.\")\n"
   ]
  },
  {
   "cell_type": "code",
   "execution_count": null,
   "metadata": {},
   "outputs": [
    {
     "name": "stdout",
     "output_type": "stream",
     "text": [
      "   Airline  Flight AirportFrom AirportTo  DayOfWeek  Time  Length  Delay\n",
      "id                                                                      \n",
      "1       CO     269         SFO       IAH          3    15     205      1\n",
      "2       US    1558         PHX       CLT          3    15     222      1\n",
      "3       AA    2400         LAX       DFW          3    20     165      1\n",
      "4       AA    2466         SFO       DFW          3    20     195      1\n",
      "5       AS     108         ANC       SEA          3    30     202      0\n"
     ]
    }
   ],
   "source": [
    "# A coluna Length_horas foi criada para análise, mas não será usada no modelo de machine learning\n",
    "dados_balanceados = dados_balanceados.drop(columns=['Length_horas'])\n",
    "print(dados.head())"
   ]
  },
  {
   "cell_type": "code",
   "execution_count": null,
   "metadata": {},
   "outputs": [
    {
     "name": "stdout",
     "output_type": "stream",
     "text": [
      "Arquivo salvo como 'data/dados_balanceados.csv'\n"
     ]
    }
   ],
   "source": [
    "if not os.path.exists('data'):\n",
    "    os.makedirs('data')\n",
    "\n",
    "# Salvar o DataFrame como um arquivo CSV na pasta 'data'\n",
    "dados_balanceados.to_csv('../../data/dados_balanceados.csv', index=False)\n",
    "\n",
    "# Exibir uma mensagem confirmando que o arquivo foi salvo\n",
    "print(\"Arquivo salvo como 'data/dados_balanceados.csv'\")"
   ]
  },
  {
   "cell_type": "code",
   "execution_count": null,
   "metadata": {},
   "outputs": [
    {
     "name": "stderr",
     "output_type": "stream",
     "text": [
      "<>:19: SyntaxWarning: invalid escape sequence '\\s'\n",
      "<>:19: SyntaxWarning: invalid escape sequence '\\s'\n",
      "C:\\Users\\herbe\\AppData\\Local\\Temp\\ipykernel_4024\\1969030848.py:19: SyntaxWarning: invalid escape sequence '\\s'\n",
      "  plt.savefig('..\\static\\image\\graficos\\Heartmap.png')\n"
     ]
    },
    {
     "name": "stdout",
     "output_type": "stream",
     "text": [
      "   Airline  Flight  AirportFrom  AirportTo  DayOfWeek  Time  Length  Delay\n",
      "0       12    6663           79         93          1   730     173      0\n",
      "1        6    5593           16        135          3  1155     146      1\n",
      "2       12    4826           99        260          1   375     150      1\n",
      "3        6    5355          289         85          1  1056     127      0\n",
      "4        4     732          134        158          3  1135     193      1\n"
     ]
    },
    {
     "data": {
      "image/png": "[encoded data removed]",
      "text/plain": [
       "<Figure size 1200x1000 with 2 Axes>"
      ]
     },
     "metadata": {},
     "output_type": "display_data"
    }
   ],
   "source": [
    "from sklearn.preprocessing import LabelEncoder\n",
    "\n",
    "\n",
    "le_airline = LabelEncoder()\n",
    "le_airportfrom = LabelEncoder()\n",
    "le_airportto = LabelEncoder()\n",
    "\n",
    "dados_balanceados['Airline'] = le_airline.fit_transform(dados_balanceados['Airline'])\n",
    "dados_balanceados['AirportFrom'] = le_airportfrom.fit_transform(dados_balanceados['AirportFrom'])\n",
    "dados_balanceados['AirportTo'] = le_airportto.fit_transform(dados_balanceados['AirportTo'])\n",
    "\n",
    "print(dados_balanceados.head())\n",
    "\n",
    "matriz_correlacao = dados_balanceados.corr()\n",
    "\n",
    "plt.figure(figsize=(12, 10))\n",
    "sns.heatmap(matriz_correlacao, annot=True, cmap='coolwarm', linewidths=.8)\n",
    "plt.title('Heatmap das Correlações')\n",
    "plt.savefig('..\\static\\image\\graficos\\Heartmap.png')\n",
    "plt.show()"
   ]
  }
 ],
 "metadata": {
  "colab": {
   "provenance": []
  },
  "kernelspec": {
   "display_name": "venv",
   "language": "python",
   "name": "python3"
  },
  "language_info": {
   "codemirror_mode": {
    "name": "ipython",
    "version": 3
   },
   "file_extension": ".py",
   "mimetype": "text/x-python",
   "name": "python",
   "nbconvert_exporter": "python",
   "pygments_lexer": "ipython3",
   "version": "3.12.7"
  }
 },
 "nbformat": 4,
 "nbformat_minor": 0
}
